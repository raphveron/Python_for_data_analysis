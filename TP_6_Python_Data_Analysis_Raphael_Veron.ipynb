{
 "cells": [
  {
   "cell_type": "markdown",
   "metadata": {},
   "source": [
    "## Regular expression operations\n",
    "\n",
    "A regular expression is a special sequence of characters that helps you match or find other strings or sets of strings, using a specialized syntax held in a pattern. Python has a built-in package called re, which can be used to work with Regular Expres-sions.\n",
    "\n",
    "You can find details here: https://docs.python.org/3/library/re.html#regular-expression-syntax\n"
   ]
  },
  {
   "cell_type": "code",
   "execution_count": 173,
   "metadata": {},
   "outputs": [],
   "source": [
    "import re \n",
    "import requests\n",
    "from bs4 import BeautifulSoup\n",
    "import pandas as pd"
   ]
  },
  {
   "cell_type": "markdown",
   "metadata": {},
   "source": [
    "#### 1. Write a regexp to extract the score, Cristiano’s age, number of goals and the number of selections from the following text:"
   ]
  },
  {
   "cell_type": "code",
   "execution_count": 174,
   "metadata": {},
   "outputs": [],
   "source": [
    "txt = \"Buteur face au Qatar (3-0), samedi en amical, Cristiano Ronaldo (36 ans) a fait tomber un nouveau record. En effet, l'attaquant de Manchester United, meilleur buteur de l'histoire des sélections (112 buts), est devenu le footballeur européen le plus capé avec son équipe nationale. Il compte désormais 181 matchs avec la formation lusitanienne, soit un de plus que Sergio Ramos avec l'Espagne. Le Red Devil n'est plus qu'à cinq longueurs de Bader Ahmed al-Mutawa (Koweït), recordman absolu à l'échelle mondiale.\""
   ]
  },
  {
   "cell_type": "code",
   "execution_count": 175,
   "metadata": {},
   "outputs": [
    {
     "data": {
      "text/plain": [
       "('(3-0)', '36 ans', '112', 'buts', ['181'])"
      ]
     },
     "execution_count": 175,
     "metadata": {},
     "output_type": "execute_result"
    }
   ],
   "source": [
    "txt = \"Buteur face au Qatar (3-0), samedi en amical, Cristiano Ronaldo (36 ans) a fait tomber un nouveau record. En effet, l'attaquant de Manchester United, meilleur buteur de l'histoire des sélections (112 buts), est devenu le footballeur européen le plus capé avec son équipe nationale. Il compte désormais 181 matchs avec la formation lusitanienne, soit un de plus que Sergio Ramos avec l'Espagne. Le Red Devil n'est plus qu'à cinq longueurs de Bader Ahmed al-Mutawa (Koweït), recordman absolu à l'échelle mondiale.\"\n",
    "score= re.search(r'\\(\\d-\\d\\)',txt).group(0)\n",
    "age = re.search(r'\\d+ ans',txt).group()\n",
    "nb_buts = re.search(r'(\\d+) buts', txt).group(1)\n",
    "nb1_buts = re.search(r'(\\d+) (buts)', txt).group(2)\n",
    "nb_selections = re.findall(r'Il compte désormais (\\d+) matchs avec la formation lusitanienne', txt)\n",
    "score, age, nb_buts, nb1_buts, nb_selections"
   ]
  },
  {
   "cell_type": "markdown",
   "metadata": {},
   "source": [
    "#### 2. Write a regexp to get prices from the following text:"
   ]
  },
  {
   "cell_type": "code",
   "execution_count": 176,
   "metadata": {},
   "outputs": [],
   "source": [
    "txt = \"Vous cherchez un nouvel ordinateur portable performant, fiable et en réduction ? Sur Rakuten, l’ordinateur Apple MacBook Air 2020 est en promotion, avec une remise de près de 230 euros pour un tarif final qui chute sous les 900 euros grâce à la plateforme marchande.\""
   ]
  },
  {
   "cell_type": "code",
   "execution_count": 177,
   "metadata": {},
   "outputs": [
    {
     "name": "stdout",
     "output_type": "stream",
     "text": [
      "230 euros\n",
      "900 euros\n"
     ]
    }
   ],
   "source": [
    "txt = \"Vous cherchez un nouvel ordinateur portable performant, fiable et en réduction ? Sur Rakuten, l’ordinateur Apple MacBook Air 2020 est en promotion, avec une remise de près de 230 euros pour un tarif final qui chute sous les 900 euros grâce à la plateforme marchande.\"\n",
    "prices = re.findall('(\\d+) euros', txt)\n",
    "for price in prices:\n",
    "    print(price, 'euros')"
   ]
  },
  {
   "cell_type": "markdown",
   "metadata": {},
   "source": [
    "#### 3. Write a regexp to get reduction values, along with promo code:"
   ]
  },
  {
   "cell_type": "code",
   "execution_count": 178,
   "metadata": {},
   "outputs": [],
   "source": [
    "txt = \"\"\"\n",
    "- 40% sur tous les réservoirs d'essence et collecteurs d'échappement ( achats internet uniquement ) avec le code promo: PRINTEMPS\n",
    "\n",
    "- 40% sur tous les carénages plastique  ( achats internet uniquement ) avec le code promo: CARENAGE40\n",
    "\n",
    "- 50% sur toutes les rampes d'injection ( achats internet uniquement ) avec le code promo: INJECTION50\n",
    "\"\"\""
   ]
  },
  {
   "cell_type": "code",
   "execution_count": 179,
   "metadata": {},
   "outputs": [
    {
     "data": {
      "text/plain": [
       "['Reduction de 40% avec le code promo : PRINTEMPS',\n",
       " 'Reduction de 40% avec le code promo : CARENAGE40',\n",
       " 'Reduction de 50% avec le code promo : INJECTION50']"
      ]
     },
     "execution_count": 179,
     "metadata": {},
     "output_type": "execute_result"
    }
   ],
   "source": [
    "import re\n",
    "\n",
    "# Texte fourni\n",
    "txt = \"\"\"\n",
    "- 40% sur tous les réservoirs d'essence et collecteurs d'échappement (achats internet uniquement) avec le code promo: PRINTEMPS\n",
    "- 40% sur tous les carénages plastique (achats internet uniquement) avec le code promo: CARENAGE40\n",
    "- 50% sur toutes les rampes d'injection (achats internet uniquement) avec le code promo: INJECTION50\n",
    "\"\"\"\n",
    "\n",
    "# Extraction des pourcentages et des codes promo\n",
    "pourcent = re.findall(r'(\\d+%)', txt)\n",
    "code = re.findall(r'promo: (\\w+)', txt)\n",
    "\n",
    "# Formation du format de sortie souhaité\n",
    "desired_output = [\"Reduction de {} avec le code promo : {}\".format(p, c) for p, c in zip(pourcent, code)]\n",
    "desired_output\n"
   ]
  },
  {
   "cell_type": "markdown",
   "metadata": {},
   "source": [
    "# Web scrapping\n",
    "\n",
    "# Parsing the HTML with BeautifulSoup\n",
    "\n",
    "BeautifulSoup is a Python library for parsing HTML and XML documents. It is often used for web scraping. BeautifulSoup transforms a complex HTML document into a complex tree of Python objects, such as tag, navigable string, or comment."
   ]
  },
  {
   "cell_type": "markdown",
   "metadata": {},
   "source": [
    "### Téléthon use case (read, store, visualize)\n",
    "https://www.afm-telethon.fr/fr/le-telethon/le-telethon-c-est-quoi/l-histoire-du-telethon/les-resultats-du-telethon"
   ]
  },
  {
   "cell_type": "code",
   "execution_count": 180,
   "metadata": {},
   "outputs": [],
   "source": [
    "url        = \"https://www.afm-telethon.fr/fr/le-telethon/le-telethon-c-est-quoi/l-histoire-du-telethon/les-resultats-du-telethon\"\n",
    "requesting = requests.get(url)\n",
    "soup       = BeautifulSoup(requesting.content, \"html.parser\")\n"
   ]
  },
  {
   "cell_type": "code",
   "execution_count": 181,
   "metadata": {},
   "outputs": [],
   "source": [
    "\n",
    "with open('tst.html', 'w') as f:\n",
    "    f.write(str(soup))\n",
    "\n",
    "    "
   ]
  },
  {
   "cell_type": "markdown",
   "metadata": {},
   "source": [
    "## Let's look for some information in the page"
   ]
  },
  {
   "cell_type": "markdown",
   "metadata": {},
   "source": [
    "#### 1. In 2006, the counter reached its highest level. Extract this information from the webpage (a sentence in the page)."
   ]
  },
  {
   "cell_type": "code",
   "execution_count": 182,
   "metadata": {},
   "outputs": [],
   "source": [
    "# Using css selector"
   ]
  },
  {
   "cell_type": "code",
   "execution_count": 183,
   "metadata": {},
   "outputs": [
    {
     "name": "stdout",
     "output_type": "stream",
     "text": [
      "['2006 que le compteur a atteint son niveau le plus haut, avec 106 696 532 €']\n"
     ]
    }
   ],
   "source": [
    "info = re.findall('2006 .* €',requesting.text)\n",
    "print(info)\n",
    "    "
   ]
  },
  {
   "cell_type": "code",
   "execution_count": 184,
   "metadata": {},
   "outputs": [],
   "source": [
    "# Using tags "
   ]
  },
  {
   "cell_type": "code",
   "execution_count": 185,
   "metadata": {},
   "outputs": [
    {
     "name": "stdout",
     "output_type": "stream",
     "text": [
      "106 696 532 €\n"
     ]
    }
   ],
   "source": [
    "info2 = soup.find_all(\"p\")\n",
    "for p in info2:\n",
    "    p = p.text\n",
    "    if '2006' in p:\n",
    "        n = re.search('\\d+ \\d+ \\d+ €',p).group()\n",
    "        print(n)\n",
    "        \n",
    "# .text"
   ]
  },
  {
   "cell_type": "markdown",
   "metadata": {},
   "source": [
    "#### 2. Retrieve the publication date from the webpage, using the CSS classes."
   ]
  },
  {
   "cell_type": "code",
   "execution_count": 186,
   "metadata": {},
   "outputs": [
    {
     "name": "stdout",
     "output_type": "stream",
     "text": [
      "\n",
      "                  Publié le 09/06/2022, mis à jour le 19/06/2023\n"
     ]
    }
   ],
   "source": [
    "requesting = requests.get(url)\n",
    "soup = BeautifulSoup(requesting.content, \"html.parser\")\n",
    "date_element = soup.find(class_=\"date\")\n",
    "publication_date = date_element.get_text() if date_element else \"Publication date not found\"\n",
    "print(publication_date)"
   ]
  },
  {
   "cell_type": "markdown",
   "metadata": {},
   "source": [
    "#### 3. Find the number of tables defined in the soup. "
   ]
  },
  {
   "cell_type": "code",
   "execution_count": 187,
   "metadata": {},
   "outputs": [
    {
     "name": "stdout",
     "output_type": "stream",
     "text": [
      "Number of tables: 1\n"
     ]
    }
   ],
   "source": [
    "n = pd.read_html(url)\n",
    "num_tables= len(n)\n",
    "print(f\"Number of tables: {num_tables}\")"
   ]
  },
  {
   "cell_type": "markdown",
   "metadata": {},
   "source": [
    "#### 3. Retrieve the items from this table. Create a python dataframe representing this table (do not forget to include the name of the columns as defined in the webpage)."
   ]
  },
  {
   "cell_type": "code",
   "execution_count": 188,
   "metadata": {},
   "outputs": [
    {
     "data": {
      "text/html": [
       "<div>\n",
       "<style scoped>\n",
       "    .dataframe tbody tr th:only-of-type {\n",
       "        vertical-align: middle;\n",
       "    }\n",
       "\n",
       "    .dataframe tbody tr th {\n",
       "        vertical-align: top;\n",
       "    }\n",
       "\n",
       "    .dataframe thead th {\n",
       "        text-align: right;\n",
       "    }\n",
       "</style>\n",
       "<table border=\"1\" class=\"dataframe\">\n",
       "  <thead>\n",
       "    <tr style=\"text-align: right;\">\n",
       "      <th></th>\n",
       "      <th>Année</th>\n",
       "      <th>Montant collecté</th>\n",
       "    </tr>\n",
       "  </thead>\n",
       "  <tbody>\n",
       "    <tr>\n",
       "      <th>0</th>\n",
       "      <td>1987</td>\n",
       "      <td>29 650 000 €</td>\n",
       "    </tr>\n",
       "    <tr>\n",
       "      <th>1</th>\n",
       "      <td>1988</td>\n",
       "      <td>28 490 000 €</td>\n",
       "    </tr>\n",
       "    <tr>\n",
       "      <th>2</th>\n",
       "      <td>1989</td>\n",
       "      <td>40 930 000 €</td>\n",
       "    </tr>\n",
       "    <tr>\n",
       "      <th>3</th>\n",
       "      <td>1990</td>\n",
       "      <td>46 510 000 €</td>\n",
       "    </tr>\n",
       "    <tr>\n",
       "      <th>4</th>\n",
       "      <td>1991</td>\n",
       "      <td>38 650 000 €</td>\n",
       "    </tr>\n",
       "  </tbody>\n",
       "</table>\n",
       "</div>"
      ],
      "text/plain": [
       "   Année Montant collecté\n",
       "0   1987     29 650 000 €\n",
       "1   1988     28 490 000 €\n",
       "2   1989     40 930 000 €\n",
       "3   1990     46 510 000 €\n",
       "4   1991     38 650 000 €"
      ]
     },
     "execution_count": 188,
     "metadata": {},
     "output_type": "execute_result"
    }
   ],
   "source": [
    "n[0].head()"
   ]
  },
  {
   "cell_type": "markdown",
   "metadata": {},
   "source": [
    "#### 4. Clean up columns and their types \n",
    "(it's up to you to propose how, why and what to do)"
   ]
  },
  {
   "cell_type": "code",
   "execution_count": 189,
   "metadata": {},
   "outputs": [
    {
     "data": {
      "text/plain": [
       "Année                int64\n",
       "Montant collecté    object\n",
       "dtype: object"
      ]
     },
     "execution_count": 189,
     "metadata": {},
     "output_type": "execute_result"
    }
   ],
   "source": [
    "df=pd.DataFrame(n[0])\n",
    "df.dtypes"
   ]
  },
  {
   "cell_type": "code",
   "execution_count": 190,
   "metadata": {},
   "outputs": [
    {
     "data": {
      "text/plain": [
       "Année                int64\n",
       "Montant collecté    string\n",
       "dtype: object"
      ]
     },
     "execution_count": 190,
     "metadata": {},
     "output_type": "execute_result"
    }
   ],
   "source": [
    "df[\"Montant collecté\"]=df[\"Montant collecté\"].astype('string').str[:-1]\n",
    "df.head()\n",
    "df.dtypes"
   ]
  },
  {
   "cell_type": "code",
   "execution_count": 191,
   "metadata": {},
   "outputs": [
    {
     "data": {
      "text/html": [
       "<div>\n",
       "<style scoped>\n",
       "    .dataframe tbody tr th:only-of-type {\n",
       "        vertical-align: middle;\n",
       "    }\n",
       "\n",
       "    .dataframe tbody tr th {\n",
       "        vertical-align: top;\n",
       "    }\n",
       "\n",
       "    .dataframe thead th {\n",
       "        text-align: right;\n",
       "    }\n",
       "</style>\n",
       "<table border=\"1\" class=\"dataframe\">\n",
       "  <thead>\n",
       "    <tr style=\"text-align: right;\">\n",
       "      <th></th>\n",
       "      <th>Année</th>\n",
       "      <th>Montant collecté</th>\n",
       "    </tr>\n",
       "  </thead>\n",
       "  <tbody>\n",
       "    <tr>\n",
       "      <th>0</th>\n",
       "      <td>1987</td>\n",
       "      <td>29650000</td>\n",
       "    </tr>\n",
       "    <tr>\n",
       "      <th>1</th>\n",
       "      <td>1988</td>\n",
       "      <td>28490000</td>\n",
       "    </tr>\n",
       "    <tr>\n",
       "      <th>2</th>\n",
       "      <td>1989</td>\n",
       "      <td>40930000</td>\n",
       "    </tr>\n",
       "    <tr>\n",
       "      <th>3</th>\n",
       "      <td>1990</td>\n",
       "      <td>46510000</td>\n",
       "    </tr>\n",
       "    <tr>\n",
       "      <th>4</th>\n",
       "      <td>1991</td>\n",
       "      <td>38650000</td>\n",
       "    </tr>\n",
       "  </tbody>\n",
       "</table>\n",
       "</div>"
      ],
      "text/plain": [
       "   Année Montant collecté\n",
       "0   1987         29650000\n",
       "1   1988         28490000\n",
       "2   1989         40930000\n",
       "3   1990         46510000\n",
       "4   1991         38650000"
      ]
     },
     "execution_count": 191,
     "metadata": {},
     "output_type": "execute_result"
    }
   ],
   "source": [
    "df[\"Montant collecté\"]=df[\"Montant collecté\"].str.replace(\" \",\"\")\n",
    "df.head()"
   ]
  },
  {
   "cell_type": "code",
   "execution_count": 192,
   "metadata": {},
   "outputs": [
    {
     "data": {
      "text/html": [
       "<div>\n",
       "<style scoped>\n",
       "    .dataframe tbody tr th:only-of-type {\n",
       "        vertical-align: middle;\n",
       "    }\n",
       "\n",
       "    .dataframe tbody tr th {\n",
       "        vertical-align: top;\n",
       "    }\n",
       "\n",
       "    .dataframe thead th {\n",
       "        text-align: right;\n",
       "    }\n",
       "</style>\n",
       "<table border=\"1\" class=\"dataframe\">\n",
       "  <thead>\n",
       "    <tr style=\"text-align: right;\">\n",
       "      <th></th>\n",
       "      <th>Année</th>\n",
       "      <th>Montant collecté</th>\n",
       "    </tr>\n",
       "  </thead>\n",
       "  <tbody>\n",
       "    <tr>\n",
       "      <th>0</th>\n",
       "      <td>1987</td>\n",
       "      <td>29650000</td>\n",
       "    </tr>\n",
       "    <tr>\n",
       "      <th>1</th>\n",
       "      <td>1988</td>\n",
       "      <td>28490000</td>\n",
       "    </tr>\n",
       "    <tr>\n",
       "      <th>2</th>\n",
       "      <td>1989</td>\n",
       "      <td>40930000</td>\n",
       "    </tr>\n",
       "    <tr>\n",
       "      <th>3</th>\n",
       "      <td>1990</td>\n",
       "      <td>46510000</td>\n",
       "    </tr>\n",
       "    <tr>\n",
       "      <th>4</th>\n",
       "      <td>1991</td>\n",
       "      <td>38650000</td>\n",
       "    </tr>\n",
       "  </tbody>\n",
       "</table>\n",
       "</div>"
      ],
      "text/plain": [
       "   Année  Montant collecté\n",
       "0   1987          29650000\n",
       "1   1988          28490000\n",
       "2   1989          40930000\n",
       "3   1990          46510000\n",
       "4   1991          38650000"
      ]
     },
     "execution_count": 192,
     "metadata": {},
     "output_type": "execute_result"
    }
   ],
   "source": [
    "df[\"Montant collecté\"]=df[\"Montant collecté\"].astype(int)\n",
    "df.head()"
   ]
  },
  {
   "cell_type": "markdown",
   "metadata": {},
   "source": [
    "#### 5. Retrieve the date when the most amount was collected \n",
    "\n",
    "(we already scrapped the info before, here we want the info with the table)"
   ]
  },
  {
   "cell_type": "code",
   "execution_count": 193,
   "metadata": {},
   "outputs": [
    {
     "data": {
      "text/html": [
       "<div>\n",
       "<style scoped>\n",
       "    .dataframe tbody tr th:only-of-type {\n",
       "        vertical-align: middle;\n",
       "    }\n",
       "\n",
       "    .dataframe tbody tr th {\n",
       "        vertical-align: top;\n",
       "    }\n",
       "\n",
       "    .dataframe thead th {\n",
       "        text-align: right;\n",
       "    }\n",
       "</style>\n",
       "<table border=\"1\" class=\"dataframe\">\n",
       "  <thead>\n",
       "    <tr style=\"text-align: right;\">\n",
       "      <th></th>\n",
       "      <th>Année</th>\n",
       "      <th>Montant collecté</th>\n",
       "    </tr>\n",
       "  </thead>\n",
       "  <tbody>\n",
       "    <tr>\n",
       "      <th>19</th>\n",
       "      <td>2006</td>\n",
       "      <td>106696532</td>\n",
       "    </tr>\n",
       "  </tbody>\n",
       "</table>\n",
       "</div>"
      ],
      "text/plain": [
       "    Année  Montant collecté\n",
       "19   2006         106696532"
      ]
     },
     "execution_count": 193,
     "metadata": {},
     "output_type": "execute_result"
    }
   ],
   "source": [
    "date = df.sort_values(by=\"Montant collecté\", ascending=False)\n",
    "date.head(1)"
   ]
  },
  {
   "cell_type": "markdown",
   "metadata": {},
   "source": [
    "#### 6. Visualize the evolution of the amount collected per year.\n",
    "#### Mark the maximum and minimum of the evolution with respectively red and green colors."
   ]
  },
  {
   "cell_type": "code",
   "execution_count": 194,
   "metadata": {},
   "outputs": [
    {
     "name": "stderr",
     "output_type": "stream",
     "text": [
      "C:\\Users\\raphv\\AppData\\Local\\Temp\\ipykernel_16500\\4102633390.py:4: MatplotlibDeprecationWarning: The seaborn styles shipped by Matplotlib are deprecated since 3.6, as they no longer correspond to the styles shipped by seaborn. However, they will remain available as 'seaborn-v0_8-<style>'. Alternatively, directly use the seaborn API instead.\n",
      "  plt.style.use('seaborn-darkgrid')  # Utiliser un style de fond\n"
     ]
    },
    {
     "data": {
      "image/png": "[encoded data removed]",
      "text/plain": [
       "<Figure size 1400x700 with 1 Axes>"
      ]
     },
     "metadata": {},
     "output_type": "display_data"
    }
   ],
   "source": [
    "import numpy as np\n",
    "import matplotlib.pyplot as plt\n",
    "\n",
    "plt.figure(figsize=(14, 7))\n",
    "plt.plot(df['Année'],df['Montant collecté'],\"o-\")\n",
    "plt.xlabel(\"Années\", size = 16,)\n",
    "plt.ylabel(\"Montants collectés\", size = 16)\n",
    "plt.title(\"Evolution du montant collecté par année\")\n",
    "\n",
    "x=df['Année'].tolist()\n",
    "y=df['Montant collecté'].tolist()\n",
    "\n",
    "ymax = max(df['Montant collecté'])\n",
    "xpos1 = y.index(ymax)\n",
    "xmax = x[xpos1]\n",
    "\n",
    "ymin = min(df['Montant collecté'])\n",
    "xpos2 = y.index(ymin)\n",
    "xmin = x[xpos2]\n",
    "\n",
    "plt.annotate('Maximum', xy=(xmax, ymax), xytext=(xmax, ymax+5),\n",
    "            arrowprops=dict(facecolor='red', shrink=0.05),\n",
    "            )\n",
    "plt.annotate('Minimum', xy=(xmin, ymin), xytext=(xmin, ymin+5),\n",
    "            arrowprops=dict(facecolor='green', shrink=0.05),\n",
    "            )\n",
    "\n",
    "plt.show"
   ]
  },
  {
   "cell_type": "markdown",
   "metadata": {},
   "source": [
    "## 7. Bonus question: We expect the graph bellow:"
   ]
  },
  {
   "cell_type": "code",
   "execution_count": 198,
   "metadata": {},
   "outputs": [
    {
     "data": {
      "image/png": "[encoded data removed]",
      "text/plain": [
       "<Figure size 1200x600 with 1 Axes>"
      ]
     },
     "metadata": {},
     "output_type": "display_data"
    }
   ],
   "source": [
    "import matplotlib.pyplot as plt\n",
    "\n",
    "\n",
    "# Create a bar graph with alternating colors\n",
    "fig, ax = plt.subplots(figsize=(12, 6))\n",
    "bar_colors = ['purple', 'lavender']\n",
    "\n",
    "for i, row in df.iterrows():\n",
    "    color = bar_colors[i % 2]  # Alternating colors\n",
    "    plt.bar(row[\"Année\"], row[\"Montant collecté\"], color=color, label=str(row[\"Année\"]))\n",
    "\n",
    "# Set labels and title\n",
    "plt.xlabel(\"Année\")\n",
    "plt.ylabel(\"Montant collecté\")\n",
    "plt.title(\"Montant collecté par Année (Alternating Purple and Lavender)\")\n",
    "\n",
    "# Rotate x-axis labels for better readability\n",
    "plt.xticks(rotation=45)\n",
    "\n",
    "\n",
    "\n",
    "# Show the plot\n",
    "plt.show()"
   ]
  },
  {
   "cell_type": "markdown",
   "metadata": {},
   "source": [
    "## Use case 2: https://www.infoclimat.fr/observations-meteo/archives/7/septembre/2019/paris-montsouris/07156.html"
   ]
  },
  {
   "cell_type": "code",
   "execution_count": null,
   "metadata": {},
   "outputs": [],
   "source": [
    "url   = \"https://www.infoclimat.fr/observations-meteo/archives/7/septembre/2019/paris-montsouris/07156.html\"\n",
    "page  = requests.get(url )\n",
    "html  = page.text\n",
    "soup  = BeautifulSoup(html)"
   ]
  },
  {
   "cell_type": "markdown",
   "metadata": {},
   "source": [
    "#### Convert the table of this site into a pandas dataframe\n",
    "\n",
    "You must include the names of the columns and the names of the rows (the hours) as an index "
   ]
  },
  {
   "cell_type": "markdown",
   "metadata": {},
   "source": [
    "### To help you: Define a function that allows you to retrieve the value of row i and column j of the table"
   ]
  },
  {
   "cell_type": "markdown",
   "metadata": {},
   "source": []
  },
  {
   "cell_type": "code",
   "execution_count": null,
   "metadata": {},
   "outputs": [
    {
     "name": "stdout",
     "output_type": "stream",
     "text": [
      "    13.9°C13.9→14.3  0mm/1h  14km/hraf.32.4  76%        9.7°C    1023hPa  20km\n",
      "0   14.3°C14.3→14.9  0mm/1h  18km/hraf.37.8  73%        9.5°C  1023.2hPa  20km\n",
      "1   14.9°C14.7→14.9  0mm/1h  14km/hraf.39.6  69%        9.3°C  1023.0hPa  20km\n",
      "2   14.8°C14.8→15.4  0mm/1h  18km/hraf.34.2  67%        8.7°C  1022.8hPa  20km\n",
      "3   15.4°C15.4→16.8  0mm/1h  14km/hraf.45.7  62%        8.2°C  1022.2hPa  20km\n",
      "4   16.8°C16.8→17.8  0mm/1h  22km/hraf.42.8  59%   81   8.7°C  1021.6hPa  20km\n",
      "5   17.7°C17.6→18.2  0mm/1h  18km/hraf.37.8  51%  144   7.4°C  1021.1hPa  20km\n",
      "6   17.8°C17.7→18.3  0mm/1h  18km/hraf.35.6  51%  192   7.5°C  1021.0hPa  20km\n",
      "7   18.3°C18.1→18.7  0mm/1h  14km/hraf.34.6  49%  311   7.4°C  1020.8hPa  20km\n",
      "8     18.3°C17.9→19  0mm/1h  18km/hraf.36.4  52%  378   8.3°C  1020.7hPa  20km\n",
      "9   18.7°C18.2→19.9  0mm/1h    18km/hraf.36  46%  594   6.8°C  1020.8hPa  20km\n",
      "10  19.2°C17.5→19.5  0mm/1h  14km/hraf.37.1  45%  481     7°C  1020.9hPa  20km\n",
      "11  17.4°C16.9→17.8  0mm/1h  14km/hraf.27.4  58%  250     9°C  1021.2hPa  20km\n",
      "12    17.8°C16→18.4  0mm/1h  11km/hraf.25.2  66%  508  11.4°C  1021.1hPa  20km\n",
      "13  16.0°C15.6→16.4  0mm/1h  11km/hraf.24.1  76%  219  11.8°C  1021.3hPa  20km\n",
      "14  15.6°C14.9→15.6  0mm/1h   7km/hraf.22.7  81%   81  12.3°C  1021.1hPa  20km\n",
      "15  14.9°C14.3→14.9  0mm/1h   7km/hraf.24.5  84%       12.2°C  1020.6hPa  20km\n",
      "16  14.3°C14.1→14.3  0mm/1h   7km/hraf.19.4  86%    3    12°C  1020.6hPa  20km\n",
      "17  14.4°C14.4→14.8  0mm/1h   7km/hraf.24.1  85%       11.9°C  1020.3hPa  20km\n",
      "18  14.8°C14.7→14.8  0mm/1h   7km/hraf.26.3  83%       11.9°C  1020.4hPa  20km\n",
      "19  14.7°C14.6→14.7  0mm/1h  11km/hraf.21.2  82%       11.7°C  1020.7hPa  20km\n",
      "20    14.6°C14.6→15  0mm/1h  11km/hraf.21.6  80%       11.2°C  1021.2hPa  20km\n",
      "21    15.0°C15→15.8  0mm/1h  11km/hraf.26.6  77%         11°C  1021.3hPa  20km\n",
      "22  15.8°C15.8→16.5  0mm/1h  14km/hraf.35.3  69%       10.1°C  1021.6hPa  20km\n"
     ]
    }
   ],
   "source": [
    "# Find all tables on the page\n",
    "tables = soup.find_all(\"table\")\n",
    "\n",
    "# Look for the table that contains data (based on your specific website structure)\n",
    "target_table = None\n",
    "for table in tables:\n",
    "    if \"Température\" in str(table):\n",
    "        target_table = table\n",
    "        break\n",
    "\n",
    "if target_table is not None:\n",
    "    # Extract the data from the table\n",
    "    data = []\n",
    "    for row in target_table.find_all(\"tr\"):\n",
    "        columns = row.find_all(\"td\")\n",
    "        if columns:\n",
    "            data.append([column.get_text(strip=True) for column in columns])\n",
    "\n",
    "    # Create a pandas DataFrame\n",
    "    df = pd.DataFrame(data[1:], columns=data[0])\n",
    "\n",
    "    # Drop the first and fifth columns\n",
    "    df = df.drop(df.columns[[0]], axis=1)\n",
    "\n",
    "    # Reset the index to numbers\n",
    "    df.reset_index(drop=True, inplace=True)\n",
    "\n",
    "    # Print the resulting DataFrame\n",
    "    print(df)\n",
    "else:\n",
    "    print(\"Table not found on the webpage.\")"
   ]
  },
  {
   "cell_type": "code",
   "execution_count": null,
   "metadata": {},
   "outputs": [],
   "source": []
  },
  {
   "cell_type": "code",
   "execution_count": null,
   "metadata": {},
   "outputs": [],
   "source": []
  }
 ],
 "metadata": {
  "kernelspec": {
   "display_name": "Python 3",
   "language": "python",
   "name": "python3"
  },
  "language_info": {
   "codemirror_mode": {
    "name": "ipython",
    "version": 3
   },
   "file_extension": ".py",
   "mimetype": "text/x-python",
   "name": "python",
   "nbconvert_exporter": "python",
   "pygments_lexer": "ipython3",
   "version": "3.8.8"
  }
 },
 "nbformat": 4,
 "nbformat_minor": 5
}
