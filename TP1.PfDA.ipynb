{
 "cells": [
  {
   "cell_type": "markdown",
   "id": "853f1240",
   "metadata": {},
   "source": [
    "# PW1 Python for data analysts Raphael Veron"
   ]
  },
  {
   "cell_type": "markdown",
   "id": "74225f38",
   "metadata": {},
   "source": [
    "### Exercise 1"
   ]
  },
  {
   "cell_type": "code",
   "execution_count": 1,
   "id": "8a8fc756",
   "metadata": {},
   "outputs": [],
   "source": [
    "import numpy as np\n"
   ]
  },
  {
   "cell_type": "code",
   "execution_count": 10,
   "id": "dce813db",
   "metadata": {},
   "outputs": [
    {
     "name": "stdout",
     "output_type": "stream",
     "text": [
      "['Green', 'White', 'Black']\n"
     ]
    }
   ],
   "source": [
    "sample_list = ['Red', 'Green', 'White', 'Black', 'Pink', 'Yellow']\n",
    "\n",
    "# Remove the specified elements by using list comprehension\n",
    "output_list = [sample_list[i] for i in range(len(sample_list)) if i not in (0, 4, 5)]\n",
    "\n",
    "# Print the output list\n",
    "print(output_list)"
   ]
  },
  {
   "cell_type": "code",
   "execution_count": 11,
   "id": "c8d97314",
   "metadata": {},
   "outputs": [
    {
     "name": "stdout",
     "output_type": "stream",
     "text": [
      "True\n"
     ]
    }
   ],
   "source": [
    "def are_circularly_identical(list1, list2):\n",
    "    # Si les deux listes n'ont pas la même longueur, elles ne peuvent pas être circulairement identiques.\n",
    "    if len(list1) != len(list2):\n",
    "        return False\n",
    "\n",
    "    # Doubler la première liste\n",
    "    doubled_list = list1 + list1\n",
    "\n",
    "    # Vérifier si list2 est une sous-chaîne de doubled_list\n",
    "    return ''.join(map(str, list2)) in ''.join(map(str, doubled_list))\n",
    "\n",
    "   "
   ]
  },
  {
   "cell_type": "code",
   "execution_count": 12,
   "id": "23ae6316",
   "metadata": {},
   "outputs": [
    {
     "name": "stdout",
     "output_type": "stream",
     "text": [
      "False\n"
     ]
    }
   ],
   "source": [
    " print(are_circularly_identical(sample_list, output_list))"
   ]
  },
  {
   "cell_type": "code",
   "execution_count": 13,
   "id": "ad47241a",
   "metadata": {},
   "outputs": [],
   "source": [
    "list2 =  [33, 56, 4, 80, 23, 100, 1, 0, 40, 11]"
   ]
  },
  {
   "cell_type": "code",
   "execution_count": 17,
   "id": "c6925c42",
   "metadata": {},
   "outputs": [],
   "source": [
    "def extract(list):\n",
    "    return [list[1:7],list[-1], list[-3:]]"
   ]
  },
  {
   "cell_type": "code",
   "execution_count": 18,
   "id": "01999b7e",
   "metadata": {},
   "outputs": [
    {
     "name": "stdout",
     "output_type": "stream",
     "text": [
      "[[56, 4, 80, 23, 100, 1], 11, [0, 40, 11]]\n"
     ]
    }
   ],
   "source": [
    "print(extract(list2))"
   ]
  },
  {
   "cell_type": "code",
   "execution_count": 28,
   "id": "2918d6aa",
   "metadata": {},
   "outputs": [],
   "source": [
    "list3 =  [(2, 5), (1, 2), (4, 4), (2, 3), (2, 1)]\n",
    "sorted_list = sorted(list3 , key = lambda x: x[1])"
   ]
  },
  {
   "cell_type": "code",
   "execution_count": 29,
   "id": "5780a9c9",
   "metadata": {},
   "outputs": [
    {
     "name": "stdout",
     "output_type": "stream",
     "text": [
      "[(2, 1), (1, 2), (2, 3), (4, 4), (2, 5)]\n"
     ]
    }
   ],
   "source": [
    "print(sorted_list)"
   ]
  },
  {
   "cell_type": "markdown",
   "id": "4dc71629",
   "metadata": {},
   "source": [
    "### Exercice 2"
   ]
  },
  {
   "cell_type": "code",
   "execution_count": 32,
   "id": "9102effb",
   "metadata": {},
   "outputs": [
    {
     "name": "stdout",
     "output_type": "stream",
     "text": [
      "Original list of integers:\n",
      "[1, 2, 3, 4, 5, 6, 7, 8, 9, 10]\n",
      "\n",
      "Square every number of the said list:\n",
      "[1, 4, 9, 16, 25, 36, 49, 64, 81, 100]\n",
      "\n",
      "Cube every number of the said list:\n",
      "[1, 8, 27, 64, 125, 216, 343, 512, 729, 1000]\n"
     ]
    }
   ],
   "source": [
    "# Given list of integers\n",
    "original_list = [1, 2, 3, 4, 5, 6, 7, 8, 9, 10]\n",
    "\n",
    "# Square every number using lambda\n",
    "squared_list = list(map(lambda x: x**2, original_list))\n",
    "\n",
    "# Cube every number using lambda\n",
    "cubed_list = list(map(lambda x: x**3, original_list))\n",
    "\n",
    "# Print the results\n",
    "print(\"Original list of integers:\")\n",
    "print(original_list)\n",
    "\n",
    "print(\"\\nSquare every number of the said list:\")\n",
    "print(squared_list)\n",
    "\n",
    "print(\"\\nCube every number of the said list:\")\n",
    "print(cubed_list)"
   ]
  },
  {
   "cell_type": "markdown",
   "id": "aef1063e",
   "metadata": {},
   "source": [
    "### Exercice 3"
   ]
  },
  {
   "cell_type": "code",
   "execution_count": 33,
   "id": "fdd89783",
   "metadata": {},
   "outputs": [
    {
     "name": "stdout",
     "output_type": "stream",
     "text": [
      "True\n",
      "False\n"
     ]
    }
   ],
   "source": [
    "def check_key_exists(dictionary, key):\n",
    "    return key in dictionary\n",
    "\n",
    "my_dict = {\"a\": 1, \"b\": 2, \"c\": 3}\n",
    "print(check_key_exists(my_dict, \"a\"))  # True\n",
    "print(check_key_exists(my_dict, \"d\"))  # False\n"
   ]
  },
  {
   "cell_type": "code",
   "execution_count": 34,
   "id": "b291cfbb",
   "metadata": {},
   "outputs": [
    {
     "name": "stdout",
     "output_type": "stream",
     "text": [
      "Key: a, Value: 1\n",
      "Key: b, Value: 2\n",
      "Key: c, Value: 3\n"
     ]
    }
   ],
   "source": [
    "def iterate_over_dict(dictionary):\n",
    "    for key, value in dictionary.items():\n",
    "        print(f\"Key: {key}, Value: {value}\")\n",
    "\n",
    "iterate_over_dict(my_dict)\n"
   ]
  },
  {
   "cell_type": "code",
   "execution_count": 35,
   "id": "0e80b5d3",
   "metadata": {},
   "outputs": [
    {
     "name": "stdout",
     "output_type": "stream",
     "text": [
      "{1: 1, 2: 4, 3: 9, 4: 16, 5: 25}\n"
     ]
    }
   ],
   "source": [
    "def generate_square_dict(n):\n",
    "    return {x: x*x for x in range(1, n+1)}\n",
    "\n",
    "print(generate_square_dict(5))  # {1: 1, 2: 4, 3: 9, 4: 16, 5: 25}\n"
   ]
  },
  {
   "cell_type": "code",
   "execution_count": 36,
   "id": "9fde3769",
   "metadata": {},
   "outputs": [
    {
     "name": "stdout",
     "output_type": "stream",
     "text": [
      "{'a': 1, 'b': 2, 'c': 3}\n"
     ]
    }
   ],
   "source": [
    "def map_lists_to_dict(keys, values):\n",
    "    return dict(zip(keys, values))\n",
    "\n",
    "keys = [\"a\", \"b\", \"c\"]\n",
    "values = [1, 2, 3]\n",
    "print(map_lists_to_dict(keys, values))  # {'a': 1, 'b': 2, 'c': 3}\n"
   ]
  },
  {
   "cell_type": "markdown",
   "id": "5a7a160c",
   "metadata": {},
   "source": [
    "### Exercise 4 Tuple, Sets"
   ]
  },
  {
   "cell_type": "markdown",
   "id": "371f6522",
   "metadata": {},
   "source": [
    "Write a program to compute element-wise sum of given tuples.\n",
    " Original lists: \n",
    " (1, 2, 3, 4)\n",
    " (3, 5, 2, 1)\n",
    " (2, 2, 3, 1)\n",
    " Element-wise sum of the said tuples:\n",
    " (6, 9, 8, 6)"
   ]
  },
  {
   "cell_type": "code",
   "execution_count": 1,
   "id": "5ddca543",
   "metadata": {},
   "outputs": [
    {
     "name": "stdout",
     "output_type": "stream",
     "text": [
      "Element-wise sum: (6, 9, 8, 6)\n"
     ]
    }
   ],
   "source": [
    "def element_wise_sum(*tuples):\n",
    "    return tuple(sum(x) for x in zip(*tuples))\n",
    "\n",
    "# Test\n",
    "t1 = (1, 2, 3, 4)\n",
    "t2 = (3, 5, 2, 1)\n",
    "t3 = (2, 2, 3, 1)\n",
    "\n",
    "print(\"Element-wise sum:\", element_wise_sum(t1, t2, t3))\n"
   ]
  },
  {
   "cell_type": "markdown",
   "id": "894db0f3",
   "metadata": {},
   "source": [
    "Write a Python program to convert a tuple to a dictionary"
   ]
  },
  {
   "cell_type": "code",
   "execution_count": 2,
   "id": "3af66445",
   "metadata": {},
   "outputs": [
    {
     "name": "stdout",
     "output_type": "stream",
     "text": [
      "Dictionary: {'a': 1, 'b': 2, 'c': 3}\n"
     ]
    }
   ],
   "source": [
    "def tuple_to_dict(t):\n",
    "    return dict(t)\n",
    "\n",
    "# Test\n",
    "t = ((\"a\", 1), (\"b\", 2), (\"c\", 3))\n",
    "print(\"Dictionary:\", tuple_to_dict(t))\n"
   ]
  },
  {
   "cell_type": "markdown",
   "id": "eabe217b",
   "metadata": {},
   "source": [
    "## Exercise 5 [Dates]"
   ]
  },
  {
   "cell_type": "markdown",
   "id": "8142703f",
   "metadata": {},
   "source": [
    "Write a Python program to get the current time."
   ]
  },
  {
   "cell_type": "code",
   "execution_count": 3,
   "id": "abd64ceb",
   "metadata": {},
   "outputs": [
    {
     "name": "stdout",
     "output_type": "stream",
     "text": [
      "Current Time: 17:09:03.592089\n"
     ]
    }
   ],
   "source": [
    "from datetime import datetime\n",
    "\n",
    "def current_time():\n",
    "    return datetime.now().time()\n",
    "\n",
    "print(\"Current Time:\", current_time())\n"
   ]
  },
  {
   "cell_type": "markdown",
   "id": "5f35a2c8",
   "metadata": {},
   "source": [
    "• Write a Python program to subtract five days from current date."
   ]
  },
  {
   "cell_type": "code",
   "execution_count": 4,
   "id": "8cc72018",
   "metadata": {},
   "outputs": [
    {
     "name": "stdout",
     "output_type": "stream",
     "text": [
      "Current Date: 2023-09-14\n",
      "5 days before Current Date : 2023-09-09\n"
     ]
    }
   ],
   "source": [
    "from datetime import datetime, timedelta\n",
    "\n",
    "def subtract_days(days=5):\n",
    "    current_date = datetime.now().date()\n",
    "    new_date = current_date - timedelta(days=days)\n",
    "    return current_date, new_date\n",
    "\n",
    "current, before = subtract_days()\n",
    "print(\"Current Date:\", current)\n",
    "print(f\"5 days before Current Date : {before}\")\n"
   ]
  },
  {
   "cell_type": "markdown",
   "id": "9a888227",
   "metadata": {},
   "source": [
    "• Write a Python program to print yesterday, today, tomorrow\n"
   ]
  },
  {
   "cell_type": "code",
   "execution_count": null,
   "id": "5b427775",
   "metadata": {},
   "outputs": [],
   "source": [
    "def relative_dates():\n",
    "    today = datetime.now().date()\n",
    "    yesterday = today - timedelta(days=1)\n",
    "    tomorrow = today + timedelta(days=1)\n",
    "    return yesterday, today, tomorrow\n",
    "\n",
    "yesterday, today, tomorrow = relative_dates()\n",
    "print(\"Yesterday:\", yesterday)\n",
    "print(\"Today:\", today)\n",
    "print(\"Tomorrow:\", tomorrow)\n"
   ]
  },
  {
   "cell_type": "markdown",
   "id": "f8b00a1f",
   "metadata": {},
   "source": [
    "• Write a Python program to get week number.\n"
   ]
  },
  {
   "cell_type": "code",
   "execution_count": 5,
   "id": "cf274df3",
   "metadata": {},
   "outputs": [
    {
     "name": "stdout",
     "output_type": "stream",
     "text": [
      "Week Number: 25\n"
     ]
    }
   ],
   "source": [
    "def week_number(year, month, day):\n",
    "    return datetime(year, month, day).isocalendar()[1]\n",
    "\n",
    "print(\"Week Number:\", week_number(2015, 6, 16))\n"
   ]
  },
  {
   "cell_type": "markdown",
   "id": "c764fe21",
   "metadata": {},
   "source": [
    "Write a Python program to calculate a number of days between two dates\n"
   ]
  },
  {
   "cell_type": "code",
   "execution_count": 6,
   "id": "40094819",
   "metadata": {
    "scrolled": true
   },
   "outputs": [
    {
     "name": "stdout",
     "output_type": "stream",
     "text": [
      "Days difference: 9\n"
     ]
    }
   ],
   "source": [
    "def days_difference(date1, date2):\n",
    "    d1 = datetime.strptime(date1, '%Y-%m-%d').date()\n",
    "    d2 = datetime.strptime(date2, '%Y-%m-%d').date()\n",
    "    return abs((d2 - d1).days)\n",
    "\n",
    "print(\"Days difference:\", days_difference('2021-01-01', '2021-01-10'))\n"
   ]
  },
  {
   "cell_type": "markdown",
   "id": "276f74b5",
   "metadata": {},
   "source": [
    "##  Exercise 6 [File I/O]"
   ]
  },
  {
   "cell_type": "markdown",
   "id": "c8f07184",
   "metadata": {},
   "source": [
    "• Write a Python program to count the number of lines in a text file"
   ]
  },
  {
   "cell_type": "code",
   "execution_count": 10,
   "id": "58916ace",
   "metadata": {},
   "outputs": [
    {
     "name": "stdout",
     "output_type": "stream",
     "text": [
      "Number of lines in sample.txt: 1\n"
     ]
    }
   ],
   "source": [
    "def count_lines(filename):\n",
    "    with open(filename, 'r') as file:\n",
    "        return len(file.readlines())\n",
    "\n",
    "filename = \"sample.txt\"\n",
    "print(f\"Number of lines in {filename}: {count_lines(filename)}\")\n"
   ]
  },
  {
   "cell_type": "markdown",
   "id": "f13cdddf",
   "metadata": {},
   "source": [
    "\n",
    "• Write a Python program to assess if a file is closed or not\n"
   ]
  },
  {
   "cell_type": "code",
   "execution_count": 9,
   "id": "22cc78ac",
   "metadata": {},
   "outputs": [
    {
     "name": "stdout",
     "output_type": "stream",
     "text": [
      "File closed? False\n",
      "File closed after with-block? True\n"
     ]
    }
   ],
   "source": [
    "def is_file_closed(file_obj):\n",
    "    return file_obj.closed\n",
    "\n",
    "with open(\"sample.txt\", 'r') as file:\n",
    "    print(\"File closed?\", is_file_closed(file))\n",
    "print(\"File closed after with-block?\", is_file_closed(file))\n"
   ]
  },
  {
   "cell_type": "markdown",
   "id": "479469c2",
   "metadata": {},
   "source": [
    "\n",
    "• Write a Python program to append text to a file and display the text\n"
   ]
  },
  {
   "cell_type": "code",
   "execution_count": 7,
   "id": "79fa8d4b",
   "metadata": {},
   "outputs": [
    {
     "name": "stdout",
     "output_type": "stream",
     "text": [
      "This is an appended line.\n",
      "\n"
     ]
    }
   ],
   "source": [
    "def append_and_display(filename, text):\n",
    "    with open(filename, 'a') as file:\n",
    "        file.write(text + '\\n')\n",
    "    \n",
    "    with open(filename, 'r') as file:\n",
    "        print(file.read())\n",
    "\n",
    "append_and_display(\"sample.txt\", \"This is an appended line.\")\n"
   ]
  },
  {
   "cell_type": "markdown",
   "id": "b3a6742a",
   "metadata": {},
   "source": [
    "• Write a Python program to count the frequency of words in a file."
   ]
  },
  {
   "cell_type": "code",
   "execution_count": 8,
   "id": "0cb8dc7b",
   "metadata": {},
   "outputs": [
    {
     "name": "stdout",
     "output_type": "stream",
     "text": [
      "'This': 1\n",
      "'is': 1\n",
      "'an': 1\n",
      "'appended': 1\n",
      "'line.': 1\n"
     ]
    }
   ],
   "source": [
    "from collections import Counter\n",
    "\n",
    "def word_frequency(filename):\n",
    "    with open(filename, 'r') as file:\n",
    "        text = file.read()\n",
    "        words = text.split()\n",
    "        return Counter(words)\n",
    "\n",
    "filename = \"sample.txt\"\n",
    "frequencies = word_frequency(filename)\n",
    "for word, freq in frequencies.items():\n",
    "    print(f\"'{word}': {freq}\")\n"
   ]
  },
  {
   "cell_type": "code",
   "execution_count": null,
   "id": "8c074378",
   "metadata": {},
   "outputs": [],
   "source": []
  }
 ],
 "metadata": {
  "kernelspec": {
   "display_name": "Python 3",
   "language": "python",
   "name": "python3"
  },
  "language_info": {
   "codemirror_mode": {
    "name": "ipython",
    "version": 3
   },
   "file_extension": ".py",
   "mimetype": "text/x-python",
   "name": "python",
   "nbconvert_exporter": "python",
   "pygments_lexer": "ipython3",
   "version": "3.6.8"
  }
 },
 "nbformat": 4,
 "nbformat_minor": 5
}
